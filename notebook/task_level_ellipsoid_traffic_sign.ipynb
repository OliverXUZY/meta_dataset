{
 "cells": [
  {
   "cell_type": "code",
   "execution_count": 30,
   "metadata": {},
   "outputs": [],
   "source": [
    "import sys\n",
    "sys.path.insert(0, '/home/zhuoyan/vision/meta_dataset')\n",
    "import time\n",
    "import datasets\n",
    "import os\n",
    "import time\n",
    "import json\n",
    "import torch\n",
    "\n",
    "import numpy as np\n",
    "import pandas as pd\n",
    "import seaborn as sns\n",
    "import matplotlib.pyplot as plt\n",
    "\n",
    "import torch.nn.functional as F\n",
    "from collections import defaultdict\n",
    "\n",
    "from distance_tools import load_test_features, simfunc, compute_mahalanobis_distance, MeanEmbeddingSimilarity,load_train_task_features"
   ]
  },
  {
   "cell_type": "code",
   "execution_count": 31,
   "metadata": {},
   "outputs": [],
   "source": [
    "all = ['traffic_sign', 'mscoco', 'ilsvrc_2012', 'omniglot', 'aircraft', 'cu_birds', 'dtd', 'quickdraw', 'fungi', 'vgg_flower']\n",
    "target = 'traffic_sign'\n",
    "trsource = ['ilsvrc_2012', 'omniglot', 'aircraft', 'cu_birds', 'dtd', 'quickdraw', 'fungi', 'vgg_flower']"
   ]
  },
  {
   "cell_type": "code",
   "execution_count": 32,
   "metadata": {},
   "outputs": [
    {
     "name": "stdout",
     "output_type": "stream",
     "text": [
      "[17, 16, 46, 40, 10, 27, 39, 18, 2, 45, 43, 30, 37, 6, 38, 22, 0, 28, 14, 8, 23, 25, 33, 31, 9, 48, 35, 4, 5, 36, 21, 15, 11, 20, 13, 34, 42, 49, 7, 41, 47, 29, 24, 1, 3, 32, 26, 44, 12, 19, 52, 94, 53, 50, 78, 76, 77, 71, 93, 69, 99, 68, 97, 98, 70, 75, 91, 82, 86, 60, 54, 83, 80, 63, 90, 88, 79, 59, 96, 95, 87, 67, 55, 81, 66, 65, 92, 58, 51, 57, 72, 84, 64, 89, 74, 62, 56, 73, 61, 85, 128, 101, 115, 121, 102, 116, 129, 119, 147, 143, 124, 131, 109, 125, 144, 123, 134, 126, 105, 118, 141, 142, 149, 130, 113, 146, 117, 107, 114, 106, 145, 139, 148, 122, 133, 140, 127, 112, 135, 108, 104, 120, 100, 136, 110, 111, 132, 137, 103, 138, 206, 221, 220, 249, 247, 216, 218, 208, 241, 205, 213, 217, 233, 214, 202, 239, 209, 243, 227, 311, 225, 228, 226, 215, 248, 237, 235, 201, 219, 203, 224, 230, 204, 223, 310, 231, 207, 229, 242, 240, 349, 336, 211, 234, 312, 329, 343, 305, 339, 232, 308, 212, 246, 314, 318, 345, 304, 320, 342, 222, 244, 330, 210, 236, 335, 348, 300, 302, 334, 319, 332, 325, 331, 346, 200, 321, 316, 303, 340, 341, 326, 327, 337, 333, 324, 317, 344, 323, 245, 238, 309, 347, 301, 328, 313, 322, 307, 338, 306, 315, 275, 192, 170, 160, 161, 155, 166, 152, 187, 179, 158, 164, 193, 189, 188, 167, 173, 195, 154, 169, 174, 186, 257, 151, 163, 286, 172, 191, 153, 260, 180, 184, 157, 150, 162, 196, 265, 185, 171, 156, 259, 183, 280, 198, 273, 197, 178, 176, 274, 168, 165, 294, 299, 272, 291, 182, 293, 281, 177, 296, 288, 159, 297, 269, 194, 290, 181, 261, 250, 287, 258, 253, 284, 190, 278, 292, 263, 251, 268, 267, 262, 276, 285, 252, 175, 279, 264, 283, 298, 270, 199, 254, 282, 277, 256, 271, 295, 266, 255, 289]\n"
     ]
    }
   ],
   "source": [
    "import json\n",
    "\n",
    "with open(f'/datadrive2/datasets/meta_dataset_taskEmb/50_per_domain/{target}_sim_sorted_index.json', 'r') as file:\n",
    "    sorted_index = json.load(file)\n",
    "\n",
    "print(sorted_index)\n"
   ]
  },
  {
   "cell_type": "code",
   "execution_count": 33,
   "metadata": {},
   "outputs": [
    {
     "name": "stdout",
     "output_type": "stream",
     "text": [
      "Loading image features from cached file /datadrive2/datasets/meta_dataset_taskEmb/testSet/clip/subset0_8domains_features.json [took 1.434 s]\n"
     ]
    },
    {
     "data": {
      "text/plain": [
       "dict_keys(['traffic_sign', 'mscoco', 'ilsvrc_2012', 'omniglot', 'aircraft', 'cu_birds', 'dtd', 'quickdraw', 'fungi', 'vgg_flower'])"
      ]
     },
     "execution_count": 33,
     "metadata": {},
     "output_type": "execute_result"
    }
   ],
   "source": [
    "features = load_test_features(0)\n",
    "features.keys()"
   ]
  },
  {
   "cell_type": "code",
   "execution_count": 34,
   "metadata": {},
   "outputs": [
    {
     "data": {
      "text/plain": [
       "torch.Size([2000, 512])"
      ]
     },
     "execution_count": 34,
     "metadata": {},
     "output_type": "execute_result"
    }
   ],
   "source": [
    "target_features = features['traffic_sign']\n",
    "target_features.shape"
   ]
  },
  {
   "cell_type": "code",
   "execution_count": null,
   "metadata": {},
   "outputs": [],
   "source": []
  },
  {
   "cell_type": "code",
   "execution_count": 35,
   "metadata": {},
   "outputs": [
    {
     "data": {
      "text/plain": [
       "torch.Size([150, 512])"
      ]
     },
     "execution_count": 35,
     "metadata": {},
     "output_type": "execute_result"
    }
   ],
   "source": [
    "task_features = load_train_task_features(task_id = 16)\n",
    "task_features.shape"
   ]
  },
  {
   "cell_type": "code",
   "execution_count": 36,
   "metadata": {},
   "outputs": [
    {
     "data": {
      "text/plain": [
       "torch.Size([300, 512])"
      ]
     },
     "execution_count": 36,
     "metadata": {},
     "output_type": "execute_result"
    }
   ],
   "source": [
    "torch.concat([task_features,task_features]).shape"
   ]
  },
  {
   "cell_type": "code",
   "execution_count": 37,
   "metadata": {},
   "outputs": [
    {
     "data": {
      "text/plain": [
       "torch.Size([150, 512])"
      ]
     },
     "execution_count": 37,
     "metadata": {},
     "output_type": "execute_result"
    }
   ],
   "source": [
    "torch.concat([task_features]).shape"
   ]
  },
  {
   "cell_type": "code",
   "execution_count": 38,
   "metadata": {},
   "outputs": [
    {
     "data": {
      "text/plain": [
       "1103636992.0"
      ]
     },
     "execution_count": 38,
     "metadata": {},
     "output_type": "execute_result"
    }
   ],
   "source": [
    "compute_mahalanobis_distance(features[target], task_features).item()"
   ]
  },
  {
   "cell_type": "code",
   "execution_count": 39,
   "metadata": {},
   "outputs": [
    {
     "name": "stdout",
     "output_type": "stream",
     "text": [
      "-2022112512.0\n",
      "402159104.0\n",
      "-416596992.0\n",
      "37118.96875\n",
      "14110.98828125\n"
     ]
    },
    {
     "ename": "KeyboardInterrupt",
     "evalue": "",
     "output_type": "error",
     "traceback": [
      "\u001b[0;31m---------------------------------------------------------------------------\u001b[0m",
      "\u001b[0;31mKeyboardInterrupt\u001b[0m                         Traceback (most recent call last)",
      "\u001b[1;32m/home/zhuoyan/vision/meta_dataset/notebook/task_level_ellipsoid_traffic_sign.ipynb Cell 11\u001b[0m line \u001b[0;36m8\n\u001b[1;32m      <a href='vscode-notebook-cell://ssh-remote%2Bazure2/home/zhuoyan/vision/meta_dataset/notebook/task_level_ellipsoid_traffic_sign.ipynb#X13sdnNjb2RlLXJlbW90ZQ%3D%3D?line=5'>6</a>\u001b[0m current_set\u001b[39m.\u001b[39mappend(task_features)\n\u001b[1;32m      <a href='vscode-notebook-cell://ssh-remote%2Bazure2/home/zhuoyan/vision/meta_dataset/notebook/task_level_ellipsoid_traffic_sign.ipynb#X13sdnNjb2RlLXJlbW90ZQ%3D%3D?line=6'>7</a>\u001b[0m train_set_features \u001b[39m=\u001b[39m torch\u001b[39m.\u001b[39mconcat(current_set)\n\u001b[0;32m----> <a href='vscode-notebook-cell://ssh-remote%2Bazure2/home/zhuoyan/vision/meta_dataset/notebook/task_level_ellipsoid_traffic_sign.ipynb#X13sdnNjb2RlLXJlbW90ZQ%3D%3D?line=7'>8</a>\u001b[0m distance \u001b[39m=\u001b[39m compute_mahalanobis_distance(features[target], train_set_features)\u001b[39m.\u001b[39mitem()\n\u001b[1;32m      <a href='vscode-notebook-cell://ssh-remote%2Bazure2/home/zhuoyan/vision/meta_dataset/notebook/task_level_ellipsoid_traffic_sign.ipynb#X13sdnNjb2RlLXJlbW90ZQ%3D%3D?line=8'>9</a>\u001b[0m \u001b[39mprint\u001b[39m(distance)\n\u001b[1;32m     <a href='vscode-notebook-cell://ssh-remote%2Bazure2/home/zhuoyan/vision/meta_dataset/notebook/task_level_ellipsoid_traffic_sign.ipynb#X13sdnNjb2RlLXJlbW90ZQ%3D%3D?line=9'>10</a>\u001b[0m mh_distances\u001b[39m.\u001b[39mappend(distance)\n",
      "File \u001b[0;32m~/vision/meta_dataset/notebook/distance_tools.py:135\u001b[0m, in \u001b[0;36mcompute_mahalanobis_distance\u001b[0;34m(target_emb, task_emb)\u001b[0m\n\u001b[1;32m    133\u001b[0m \u001b[39m# Compute the covariance matrix and its inverse\u001b[39;00m\n\u001b[1;32m    134\u001b[0m task_covariance \u001b[39m=\u001b[39m torch_cov(task_emb)\n\u001b[0;32m--> 135\u001b[0m task_covariance_inv \u001b[39m=\u001b[39m torch\u001b[39m.\u001b[39;49minverse(task_covariance)\n\u001b[1;32m    137\u001b[0m \u001b[39m# Compute the Mahalanobis distance\u001b[39;00m\n\u001b[1;32m    138\u001b[0m diff \u001b[39m=\u001b[39m target_mean \u001b[39m-\u001b[39m task_mean\n",
      "\u001b[0;31mKeyboardInterrupt\u001b[0m: "
     ]
    }
   ],
   "source": [
    "current_set = []\n",
    "mh_distances = []\n",
    "count = 1\n",
    "for task_id in sorted_index:\n",
    "    task_features = load_train_task_features(task_id)\n",
    "    current_set.append(task_features)\n",
    "    train_set_features = torch.concat(current_set)\n",
    "    distance = compute_mahalanobis_distance(features[target], train_set_features).item()\n",
    "    print(distance)\n",
    "    mh_distances.append(distance)\n",
    "    count += 1\n",
    "    if count % 10 == 1:\n",
    "        print(f\"done {count}-th task\")"
   ]
  },
  {
   "cell_type": "code",
   "execution_count": 35,
   "metadata": {},
   "outputs": [],
   "source": [
    "distances = [-i if i < 0 else i for i in mh_distances]"
   ]
  },
  {
   "cell_type": "code",
   "execution_count": 39,
   "metadata": {},
   "outputs": [],
   "source": [
    "distances = 1/(np.array(distances))"
   ]
  },
  {
   "cell_type": "code",
   "execution_count": 40,
   "metadata": {},
   "outputs": [
    {
     "data": {
      "text/plain": [
       "(350,)"
      ]
     },
     "execution_count": 40,
     "metadata": {},
     "output_type": "execute_result"
    }
   ],
   "source": [
    "distances.shape"
   ]
  },
  {
   "cell_type": "code",
   "execution_count": 41,
   "metadata": {},
   "outputs": [
    {
     "data": {
      "text/plain": [
       "array([4.94532324e-10, 2.48657805e-09, 2.40040139e-09, 2.69404036e-05,\n",
       "       7.08667586e-05, 1.08135325e-04, 1.30487541e-04, 1.43815236e-04,\n",
       "       1.61912388e-04, 1.70092265e-04, 1.77245150e-04, 1.82516098e-04,\n",
       "       1.87856904e-04, 1.92019274e-04, 1.93139384e-04, 1.94332734e-04,\n",
       "       1.98282302e-04, 2.02073583e-04, 2.02845462e-04, 2.05810240e-04,\n",
       "       2.08867784e-04, 2.08788614e-04, 2.12192973e-04, 2.13882186e-04,\n",
       "       2.15754799e-04, 2.15595968e-04, 2.15631198e-04, 2.17274212e-04,\n",
       "       2.16999035e-04, 2.19018928e-04, 2.20319836e-04, 2.19173063e-04,\n",
       "       2.19475422e-04, 2.20165765e-04, 2.20441279e-04, 2.21797111e-04,\n",
       "       2.20456228e-04, 2.19034669e-04, 2.18906791e-04, 2.19120113e-04,\n",
       "       2.18459439e-04, 2.19931838e-04, 2.19495957e-04, 2.19982346e-04,\n",
       "       2.20389991e-04, 2.21596314e-04, 2.22157715e-04, 2.22739919e-04,\n",
       "       2.22923260e-04, 2.22106686e-04, 2.26131705e-04, 2.29274554e-04,\n",
       "       2.35581612e-04, 2.41043010e-04, 2.43223615e-04, 2.45098127e-04,\n",
       "       2.49305903e-04, 2.51302543e-04, 2.54375842e-04, 2.54835751e-04,\n",
       "       2.55629417e-04, 2.55890687e-04, 2.55415768e-04, 2.55270023e-04,\n",
       "       2.55772650e-04, 2.56051834e-04, 2.56746700e-04, 2.55982529e-04,\n",
       "       2.56613306e-04, 2.55714191e-04, 2.55762061e-04, 2.55317361e-04,\n",
       "       2.54399857e-04, 2.54607836e-04, 2.57049307e-04, 2.57122291e-04,\n",
       "       2.55976546e-04, 2.55109651e-04, 2.54919428e-04, 2.55740040e-04,\n",
       "       2.55271805e-04, 2.55476752e-04, 2.55057086e-04, 2.54499139e-04,\n",
       "       2.54140328e-04, 2.54275677e-04, 2.54767467e-04, 2.54476086e-04,\n",
       "       2.53822709e-04, 2.53584983e-04, 2.53349160e-04, 2.53311651e-04,\n",
       "       2.52404436e-04, 2.51869389e-04, 2.51191011e-04, 2.50926624e-04,\n",
       "       2.50251091e-04, 2.49465470e-04, 2.48881371e-04, 2.48562120e-04,\n",
       "       3.81923530e-04, 4.64507109e-04, 5.23156475e-04, 5.89483901e-04,\n",
       "       6.41380120e-04, 6.96523538e-04, 7.39647107e-04, 7.98800084e-04,\n",
       "       8.42456171e-04, 8.79262227e-04, 9.13621096e-04, 9.49008627e-04,\n",
       "       9.77866694e-04, 1.00480114e-03, 1.03489793e-03, 1.05712460e-03,\n",
       "       1.09787564e-03, 1.13299465e-03, 1.15230782e-03, 1.18672645e-03,\n",
       "       1.21273212e-03, 1.24735516e-03, 1.26774722e-03, 1.28745527e-03,\n",
       "       1.30419631e-03, 1.33039808e-03, 1.34816978e-03, 1.36592398e-03,\n",
       "       1.39577757e-03, 1.42029447e-03, 1.43614724e-03, 1.45806791e-03,\n",
       "       1.47200328e-03, 1.48787388e-03, 1.50813527e-03, 1.52314187e-03,\n",
       "       1.54617207e-03, 1.55777783e-03, 1.57621561e-03, 1.60431442e-03,\n",
       "       1.62442104e-03, 1.63363110e-03, 1.64714701e-03, 1.66399524e-03,\n",
       "       1.67630426e-03, 1.69596407e-03, 1.70561345e-03, 1.71818855e-03,\n",
       "       1.73068808e-03, 1.73971528e-03, 1.75044773e-03, 1.75479954e-03,\n",
       "       1.76020930e-03, 1.76332107e-03, 1.76545446e-03, 1.76651357e-03,\n",
       "       1.77015226e-03, 1.77192366e-03, 1.77636205e-03, 1.77695852e-03,\n",
       "       1.77679298e-03, 1.78016853e-03, 1.77936059e-03, 1.77852752e-03,\n",
       "       1.77859258e-03, 1.77726635e-03, 1.77751644e-03, 1.77768018e-03,\n",
       "       1.78377149e-03, 1.78984681e-03, 1.79322881e-03, 1.79250526e-03,\n",
       "       1.79171822e-03, 1.79097358e-03, 1.79115586e-03, 1.79063965e-03,\n",
       "       1.78811590e-03, 1.79114411e-03, 1.79278437e-03, 1.79030408e-03,\n",
       "       1.79096222e-03, 1.78882869e-03, 1.78886423e-03, 1.78832552e-03,\n",
       "       1.78841005e-03, 1.78679727e-03, 1.78426432e-03, 1.78174901e-03,\n",
       "       1.78066634e-03, 1.77675792e-03, 1.77994631e-03, 1.77727830e-03,\n",
       "       1.77367673e-03, 1.77077117e-03, 1.77188495e-03, 1.77141981e-03,\n",
       "       1.77183916e-03, 1.77082188e-03, 1.77036285e-03, 1.77008245e-03,\n",
       "       1.76738423e-03, 1.76528669e-03, 1.76251034e-03, 1.75980603e-03,\n",
       "       1.75824100e-03, 1.75821610e-03, 1.75660926e-03, 1.75440701e-03,\n",
       "       1.75213849e-03, 1.74955930e-03, 1.74825473e-03, 1.74681242e-03,\n",
       "       1.74599484e-03, 1.74527655e-03, 1.74300264e-03, 1.74046468e-03,\n",
       "       1.73869930e-03, 1.73701522e-03, 1.73420274e-03, 1.73289420e-03,\n",
       "       1.73093309e-03, 1.72832510e-03, 1.72616660e-03, 1.72337243e-03,\n",
       "       1.72279327e-03, 1.71997497e-03, 1.71798533e-03, 1.71404025e-03,\n",
       "       1.71357416e-03, 1.71071322e-03, 1.70876435e-03, 1.70769164e-03,\n",
       "       1.70411298e-03, 1.70109876e-03, 1.69869659e-03, 1.69588473e-03,\n",
       "       1.69237054e-03, 1.68781466e-03, 1.68729477e-03, 1.68427164e-03,\n",
       "       1.68263513e-03, 1.68141428e-03, 1.67849711e-03, 1.67600074e-03,\n",
       "       1.67378806e-03, 1.67248576e-03, 1.66872762e-03, 1.66572624e-03,\n",
       "       1.66283570e-03, 1.65900954e-03, 1.65796968e-03, 1.66348435e-03,\n",
       "       1.66540877e-03, 1.67238555e-03, 1.67826105e-03, 1.68144775e-03,\n",
       "       1.68201809e-03, 1.68381052e-03, 1.68577777e-03, 1.68769017e-03,\n",
       "       1.69030086e-03, 1.69074129e-03, 1.69116887e-03, 1.69391449e-03,\n",
       "       1.69453258e-03, 1.69494980e-03, 1.69713197e-03, 1.69560865e-03,\n",
       "       1.69590158e-03, 1.69707589e-03, 1.69718049e-03, 1.69586647e-03,\n",
       "       1.69591176e-03, 1.69474642e-03, 1.69541845e-03, 1.69483846e-03,\n",
       "       1.69567762e-03, 1.69455501e-03, 1.69365761e-03, 1.69303894e-03,\n",
       "       1.69154217e-03, 1.69259608e-03, 1.69101771e-03, 1.69073484e-03,\n",
       "       1.69000079e-03, 1.68842291e-03, 1.68660155e-03, 1.68498529e-03,\n",
       "       1.68480457e-03, 1.68455928e-03, 1.68351258e-03, 1.68157977e-03,\n",
       "       1.68154370e-03, 1.68082124e-03, 1.67916853e-03, 1.67997691e-03,\n",
       "       1.68035063e-03, 1.67917662e-03, 1.67887000e-03, 1.67983825e-03,\n",
       "       1.68009199e-03, 1.67905496e-03, 1.67784977e-03, 1.67591434e-03,\n",
       "       1.67594931e-03, 1.67232273e-03, 1.67136892e-03, 1.67055637e-03,\n",
       "       1.66925909e-03, 1.66734375e-03, 1.66610296e-03, 1.66454501e-03,\n",
       "       1.66294338e-03, 1.66128116e-03, 1.65961519e-03, 1.65801565e-03,\n",
       "       1.65727956e-03, 1.65524527e-03, 1.65316775e-03, 1.65079267e-03,\n",
       "       1.64883050e-03, 1.65008425e-03, 1.64620614e-03, 1.64566859e-03,\n",
       "       1.64491237e-03, 1.64233306e-03, 1.64020455e-03, 1.63818998e-03,\n",
       "       1.63632792e-03, 1.63596144e-03, 1.63518115e-03, 1.63322968e-03,\n",
       "       1.63039411e-03, 1.62757047e-03, 1.62888406e-03, 1.62677668e-03,\n",
       "       1.62515047e-03, 1.62273879e-03, 1.62254321e-03, 1.61947850e-03,\n",
       "       1.61772691e-03, 1.61617150e-03, 1.61510788e-03, 1.61282225e-03,\n",
       "       1.60969274e-03, 1.60852692e-03, 1.60697181e-03, 1.60472406e-03,\n",
       "       1.60279801e-03, 1.60092819e-03])"
      ]
     },
     "execution_count": 41,
     "metadata": {},
     "output_type": "execute_result"
    }
   ],
   "source": [
    "distances"
   ]
  },
  {
   "cell_type": "code",
   "execution_count": null,
   "metadata": {},
   "outputs": [],
   "source": []
  },
  {
   "cell_type": "code",
   "execution_count": 59,
   "metadata": {},
   "outputs": [
    {
     "data": {
      "text/plain": [
       "<Axes: >"
      ]
     },
     "execution_count": 59,
     "metadata": {},
     "output_type": "execute_result"
    },
    {
     "data": {
      "image/png": "[encoded data removed]",
      "text/plain": [
       "<Figure size 640x480 with 1 Axes>"
      ]
     },
     "metadata": {},
     "output_type": "display_data"
    }
   ],
   "source": [
    "import seaborn as sns\n",
    "sns.lineplot(distances)"
   ]
  },
  {
   "cell_type": "code",
   "execution_count": 60,
   "metadata": {},
   "outputs": [
    {
     "data": {
      "text/plain": [
       "<Axes: >"
      ]
     },
     "execution_count": 60,
     "metadata": {},
     "output_type": "execute_result"
    },
    {
     "data": {
      "image/png": "[encoded data removed]",
      "text/plain": [
       "<Figure size 640x480 with 1 Axes>"
      ]
     },
     "metadata": {},
     "output_type": "display_data"
    }
   ],
   "source": [
    "differences = [(distances[i] - distances[i - 1])/distances[i - 1] for i in range(1, len(distances))]\n",
    "sns.lineplot(differences)"
   ]
  },
  {
   "cell_type": "code",
   "execution_count": 76,
   "metadata": {},
   "outputs": [
    {
     "data": {
      "text/plain": [
       "<Axes: >"
      ]
     },
     "execution_count": 76,
     "metadata": {},
     "output_type": "execute_result"
    },
    {
     "data": {
      "image/png": "[encoded data removed]",
      "text/plain": [
       "<Figure size 640x480 with 1 Axes>"
      ]
     },
     "metadata": {},
     "output_type": "display_data"
    },
    {
     "ename": "",
     "evalue": "",
     "output_type": "error",
     "traceback": [
      "\u001b[1;31mThe Kernel crashed while executing code in the the current cell or a previous cell. Please review the code in the cell(s) to identify a possible cause of the failure. Click <a href='https://aka.ms/vscodeJupyterKernelCrash'>here</a> for more info. View Jupyter <a href='command:jupyter.viewOutput'>log</a> for further details."
     ]
    }
   ],
   "source": [
    "sns.lineplot(differences[50:])"
   ]
  },
  {
   "cell_type": "code",
   "execution_count": 71,
   "metadata": {},
   "outputs": [
    {
     "data": {
      "text/plain": [
       "(array([  0,   2,   3,   4,   5,   6,   7,   8,   9,  10,  11,  12,  13,\n",
       "         14,  15,  16,  17,  18,  19,  20,  21,  23,  26,  28,  29,  31,\n",
       "         32,  33,  34,  40,  42,  43,  44,  45,  46,  49,  50,  51,  52,\n",
       "         53,  54,  55,  56,  57,  58,  59,  60,  63,  64,  65,  67,  73,\n",
       "         79,  85,  99, 100, 101, 102, 103, 104, 105, 106, 107, 108, 109,\n",
       "        110, 111, 112, 113, 114, 115, 116, 117, 118, 119, 120, 121, 122,\n",
       "        123, 124, 125, 126, 127, 128, 129, 130, 131, 132, 133, 134, 135,\n",
       "        136, 137, 138, 139, 140, 141, 142, 143, 144, 145, 146, 147, 148,\n",
       "        149, 150, 151, 152, 153, 155, 156, 157, 161, 167, 168, 170, 176,\n",
       "        189, 250, 251, 252, 253, 254, 256, 257, 258, 259, 262, 265, 280,\n",
       "        298]),)"
      ]
     },
     "execution_count": 71,
     "metadata": {},
     "output_type": "execute_result"
    }
   ],
   "source": [
    "differences = np.array(differences)\n",
    "np.where(differences >= 1e-3)"
   ]
  },
  {
   "cell_type": "code",
   "execution_count": 75,
   "metadata": {},
   "outputs": [
    {
     "data": {
      "text/plain": [
       "(158,)"
      ]
     },
     "execution_count": 75,
     "metadata": {},
     "output_type": "execute_result"
    }
   ],
   "source": [
    "np.where(differences >= 1e-4)[0].shape"
   ]
  },
  {
   "cell_type": "code",
   "execution_count": null,
   "metadata": {},
   "outputs": [],
   "source": []
  },
  {
   "cell_type": "code",
   "execution_count": null,
   "metadata": {},
   "outputs": [],
   "source": []
  },
  {
   "cell_type": "code",
   "execution_count": 19,
   "metadata": {},
   "outputs": [
    {
     "data": {
      "text/plain": [
       "-410628416.0"
      ]
     },
     "execution_count": 19,
     "metadata": {},
     "output_type": "execute_result"
    }
   ],
   "source": [
    "def load_train_task_features(task_id = 0):\n",
    "    with open(f'/datadrive2/datasets/meta_dataset_taskEmb/50_per_domain/clip/task_{task_id}.json', 'r') as json_file:\n",
    "        task = json.load(json_file)\n",
    "\n",
    "    fea = torch.tensor(task['features'])\n",
    "    return fea\n",
    "distance = compute_mahalanobis_distance(features[target], load_train_task_features(task_id = 0)).item()\n",
    "distance"
   ]
  },
  {
   "cell_type": "code",
   "execution_count": null,
   "metadata": {},
   "outputs": [],
   "source": []
  },
  {
   "cell_type": "code",
   "execution_count": 21,
   "metadata": {},
   "outputs": [
    {
     "data": {
      "text/plain": [
       "-410628416.0"
      ]
     },
     "execution_count": 21,
     "metadata": {},
     "output_type": "execute_result"
    }
   ],
   "source": [
    "def load_train_task_features(task_path = \"/datadrive2/datasets/meta_dataset_taskEmb/100_per_domain/clip\", task_id = 0):\n",
    "    with open(f'{task_path}/task_{task_id}.json', 'r') as json_file:\n",
    "        task = json.load(json_file)\n",
    "    # source = task['source']\n",
    "    fea = torch.tensor(task['features'])\n",
    "    return fea\n",
    "\n",
    "compute_mahalanobis_distance(features[target], load_train_task_features(task_path = \"/datadrive2/datasets/meta_dataset_taskEmb/100_per_domain/clip\", task_id = 0)).item()"
   ]
  },
  {
   "cell_type": "code",
   "execution_count": 24,
   "metadata": {},
   "outputs": [
    {
     "name": "stdout",
     "output_type": "stream",
     "text": [
      "-2022112512.0\n",
      "402159104.0\n",
      "-416596992.0\n",
      "37118.96875\n",
      "14110.98828125\n",
      "9247.671875\n",
      "7663.56689453125\n",
      "6953.3662109375\n",
      "6176.1796875\n",
      "5879.162109375\n",
      "5641.9033203125\n"
     ]
    },
    {
     "ename": "KeyboardInterrupt",
     "evalue": "",
     "output_type": "error",
     "traceback": [
      "\u001b[0;31m---------------------------------------------------------------------------\u001b[0m",
      "\u001b[0;31mKeyboardInterrupt\u001b[0m                         Traceback (most recent call last)",
      "\u001b[1;32m/home/zhuoyan/vision/meta_dataset/notebook/task_level_ellipsoid_traffic_sign.ipynb Cell 27\u001b[0m line \u001b[0;36m9\n\u001b[1;32m      <a href='vscode-notebook-cell://ssh-remote%2Bazure2/home/zhuoyan/vision/meta_dataset/notebook/task_level_ellipsoid_traffic_sign.ipynb#X51sdnNjb2RlLXJlbW90ZQ%3D%3D?line=6'>7</a>\u001b[0m current_set\u001b[39m.\u001b[39mappend(task_features)\n\u001b[1;32m      <a href='vscode-notebook-cell://ssh-remote%2Bazure2/home/zhuoyan/vision/meta_dataset/notebook/task_level_ellipsoid_traffic_sign.ipynb#X51sdnNjb2RlLXJlbW90ZQ%3D%3D?line=7'>8</a>\u001b[0m train_set_features \u001b[39m=\u001b[39m torch\u001b[39m.\u001b[39mconcat(current_set)\n\u001b[0;32m----> <a href='vscode-notebook-cell://ssh-remote%2Bazure2/home/zhuoyan/vision/meta_dataset/notebook/task_level_ellipsoid_traffic_sign.ipynb#X51sdnNjb2RlLXJlbW90ZQ%3D%3D?line=8'>9</a>\u001b[0m distance \u001b[39m=\u001b[39m compute_mahalanobis_distance(features[target], train_set_features)\u001b[39m.\u001b[39mitem()\n\u001b[1;32m     <a href='vscode-notebook-cell://ssh-remote%2Bazure2/home/zhuoyan/vision/meta_dataset/notebook/task_level_ellipsoid_traffic_sign.ipynb#X51sdnNjb2RlLXJlbW90ZQ%3D%3D?line=9'>10</a>\u001b[0m mh_distances\u001b[39m.\u001b[39mappend(distance)\n\u001b[1;32m     <a href='vscode-notebook-cell://ssh-remote%2Bazure2/home/zhuoyan/vision/meta_dataset/notebook/task_level_ellipsoid_traffic_sign.ipynb#X51sdnNjb2RlLXJlbW90ZQ%3D%3D?line=10'>11</a>\u001b[0m \u001b[39mprint\u001b[39m(distance)\n",
      "File \u001b[0;32m~/vision/meta_dataset/notebook/distance_tools.py:135\u001b[0m, in \u001b[0;36mcompute_mahalanobis_distance\u001b[0;34m(target_emb, task_emb)\u001b[0m\n\u001b[1;32m    133\u001b[0m \u001b[39m# Compute the covariance matrix and its inverse\u001b[39;00m\n\u001b[1;32m    134\u001b[0m task_covariance \u001b[39m=\u001b[39m torch_cov(task_emb)\n\u001b[0;32m--> 135\u001b[0m task_covariance_inv \u001b[39m=\u001b[39m torch\u001b[39m.\u001b[39;49minverse(task_covariance)\n\u001b[1;32m    137\u001b[0m \u001b[39m# Compute the Mahalanobis distance\u001b[39;00m\n\u001b[1;32m    138\u001b[0m diff \u001b[39m=\u001b[39m target_mean \u001b[39m-\u001b[39m task_mean\n",
      "\u001b[0;31mKeyboardInterrupt\u001b[0m: "
     ]
    }
   ],
   "source": [
    "root = \"/datadrive2/datasets/meta_dataset_taskEmb/100_per_domain\"\n",
    "current_set = []\n",
    "mh_distances = []\n",
    "count = 1\n",
    "for task_id in sorted_index:\n",
    "    task_features = load_train_task_features(os.path.join(root, \"clip\"), task_id)\n",
    "    current_set.append(task_features)\n",
    "    train_set_features = torch.concat(current_set)\n",
    "    distance = compute_mahalanobis_distance(features[target], train_set_features).item()\n",
    "    mh_distances.append(distance)\n",
    "    print(distance)\n",
    "    count += 1\n",
    "    if count % 20 == 1:\n",
    "        print(f\"target: {target} | {0}-th test features | done {count}-th task\")"
   ]
  },
  {
   "cell_type": "code",
   "execution_count": null,
   "metadata": {},
   "outputs": [],
   "source": []
  },
  {
   "cell_type": "code",
   "execution_count": null,
   "metadata": {},
   "outputs": [],
   "source": []
  },
  {
   "cell_type": "markdown",
   "metadata": {},
   "source": [
    "#### load div"
   ]
  },
  {
   "cell_type": "code",
   "execution_count": 25,
   "metadata": {},
   "outputs": [],
   "source": [
    "div_by_tasks_cached_file = \"/datadrive2/datasets/meta_dataset_taskEmb/100_per_domain/traffic_sign_div_by_tasks.npy\""
   ]
  },
  {
   "cell_type": "code",
   "execution_count": 26,
   "metadata": {},
   "outputs": [],
   "source": [
    "final = np.load(div_by_tasks_cached_file)"
   ]
  },
  {
   "cell_type": "code",
   "execution_count": 27,
   "metadata": {},
   "outputs": [
    {
     "data": {
      "text/plain": [
       "(10, 700)"
      ]
     },
     "execution_count": 27,
     "metadata": {},
     "output_type": "execute_result"
    }
   ],
   "source": [
    "final.shape"
   ]
  },
  {
   "cell_type": "code",
   "execution_count": 28,
   "metadata": {},
   "outputs": [
    {
     "data": {
      "text/plain": [
       "array([-1.10152131e+10, -5.22546784e+08,  9.69288576e+08,  4.02193984e+04,\n",
       "        1.48599541e+04,  1.00892715e+04,  8.00936523e+03,  6.66403711e+03,\n",
       "        6.53031543e+03,  6.19112695e+03,  5.72926855e+03,  5.61245557e+03,\n",
       "        5.37272363e+03,  5.20125195e+03,  4.93235889e+03,  4.86339551e+03,\n",
       "        4.76691309e+03,  4.73222119e+03,  4.53279688e+03,  4.45627637e+03,\n",
       "        4.39868555e+03,  4.37764941e+03,  4.38899561e+03,  4.39787939e+03,\n",
       "        4.34915430e+03,  4.35012402e+03,  4.31670508e+03,  4.32189746e+03,\n",
       "        4.31638184e+03,  4.29622656e+03,  4.27290332e+03,  4.27610059e+03,\n",
       "        4.24800537e+03,  4.26652148e+03,  4.23552051e+03,  4.24709180e+03,\n",
       "        4.23252295e+03,  4.23274268e+03,  4.21201758e+03,  4.18951709e+03,\n",
       "        4.17857422e+03,  4.19759766e+03,  4.20384473e+03,  4.20547070e+03,\n",
       "        4.20363184e+03,  4.18848682e+03,  4.18085449e+03,  4.18327832e+03,\n",
       "        4.17796729e+03,  4.16481152e+03,  4.15872314e+03,  4.17005176e+03,\n",
       "        4.16199121e+03,  4.15647852e+03,  4.13838574e+03,  4.14421924e+03,\n",
       "        4.15426807e+03,  4.14472754e+03,  4.15590625e+03,  4.16109570e+03,\n",
       "        4.17728418e+03,  4.17072461e+03,  4.17153711e+03,  4.16410352e+03,\n",
       "        4.14475391e+03,  4.14134033e+03,  4.13865088e+03,  4.14584082e+03,\n",
       "        4.14691602e+03,  4.14170557e+03,  4.15476562e+03,  4.15377344e+03,\n",
       "        4.16837305e+03,  4.17095605e+03,  4.17624951e+03,  4.16808203e+03,\n",
       "        4.16578418e+03,  4.17191895e+03,  4.17040723e+03,  4.17114453e+03,\n",
       "        4.18353320e+03,  4.19774121e+03,  4.19189941e+03,  4.18690234e+03,\n",
       "        4.19342773e+03,  4.19703174e+03,  4.20494824e+03,  4.19335156e+03,\n",
       "        4.19711816e+03,  4.19997949e+03,  4.19604199e+03,  4.18908252e+03,\n",
       "        4.18794141e+03,  4.18627783e+03,  4.18825635e+03,  4.18370215e+03,\n",
       "        4.18389160e+03,  4.18345996e+03,  4.18486182e+03,  4.19492188e+03,\n",
       "        4.11664111e+03,  4.09075024e+03,  4.06466309e+03,  4.03777197e+03,\n",
       "        4.01415918e+03,  3.94802441e+03,  3.91278809e+03,  3.87639844e+03,\n",
       "        3.86410767e+03,  3.84797290e+03,  3.81535107e+03,  3.79922119e+03,\n",
       "        3.78730444e+03,  3.75110889e+03,  3.73908838e+03,  3.72706567e+03,\n",
       "        3.70715552e+03,  3.69387354e+03,  3.69689844e+03,  3.69445142e+03,\n",
       "        3.69056885e+03,  3.68530713e+03,  3.68241846e+03,  3.67914062e+03,\n",
       "        3.67356812e+03,  3.67562817e+03,  3.67837109e+03,  3.67845996e+03,\n",
       "        3.67417676e+03,  3.67413037e+03,  3.67343604e+03,  3.67156348e+03,\n",
       "        3.67427856e+03,  3.67399707e+03,  3.66925000e+03,  3.67605127e+03,\n",
       "        3.66935718e+03,  3.66891504e+03,  3.67736011e+03,  3.68231860e+03,\n",
       "        3.68311084e+03,  3.68298438e+03,  3.68348438e+03,  3.68567358e+03,\n",
       "        3.68848096e+03,  3.69547998e+03,  3.69490234e+03,  3.69514844e+03,\n",
       "        3.69337500e+03,  3.67935303e+03,  3.68010718e+03,  3.68171484e+03,\n",
       "        3.68494287e+03,  3.68800488e+03,  3.68916943e+03,  3.69659473e+03,\n",
       "        3.69636475e+03,  3.70361670e+03,  3.70554565e+03,  3.70945312e+03,\n",
       "        3.70731494e+03,  3.71263623e+03,  3.71321338e+03,  3.70764355e+03,\n",
       "        3.71212500e+03,  3.71794263e+03,  3.72142505e+03,  3.72119775e+03,\n",
       "        3.71779272e+03,  3.72334033e+03,  3.72518701e+03,  3.72902441e+03,\n",
       "        3.73485693e+03,  3.73939624e+03,  3.74074463e+03,  3.74540234e+03,\n",
       "        3.74694116e+03,  3.75452222e+03,  3.75648413e+03,  3.75806445e+03,\n",
       "        3.76534595e+03,  3.76566357e+03,  3.76853955e+03,  3.77448096e+03,\n",
       "        3.78176514e+03,  3.78495215e+03,  3.79066675e+03,  3.79506274e+03,\n",
       "        3.80087183e+03,  3.80477759e+03,  3.80727100e+03,  3.80908521e+03,\n",
       "        3.81619263e+03,  3.82268750e+03,  3.82946680e+03,  3.83334692e+03,\n",
       "        3.83952295e+03,  3.84265698e+03,  3.84486426e+03,  3.84383716e+03,\n",
       "        2.69268335e+03,  2.33507031e+03,  2.13878467e+03,  1.98241138e+03,\n",
       "        1.85580444e+03,  1.73528882e+03,  1.64413196e+03,  1.56142456e+03,\n",
       "        1.49871936e+03,  1.44927356e+03,  1.40623389e+03,  1.34211072e+03,\n",
       "        1.29921753e+03,  1.26308154e+03,  1.22504175e+03,  1.19187964e+03,\n",
       "        1.16982568e+03,  1.14749963e+03,  1.12615308e+03,  1.10950781e+03,\n",
       "        1.08017725e+03,  1.05637109e+03,  1.03593701e+03,  1.01692181e+03,\n",
       "        9.98835022e+02,  9.80696411e+02,  9.67796509e+02,  9.48521545e+02,\n",
       "        9.29408813e+02,  9.12389343e+02,  9.06454468e+02,  8.97430298e+02,\n",
       "        8.82358887e+02,  8.70841248e+02,  8.61369141e+02,  8.51033569e+02,\n",
       "        8.40509644e+02,  8.31167236e+02,  8.20794189e+02,  8.07803162e+02,\n",
       "        8.01391846e+02,  7.87775696e+02,  7.80900146e+02,  7.71657227e+02,\n",
       "        7.65371216e+02,  7.59364258e+02,  7.52453369e+02,  7.46494812e+02,\n",
       "        7.41372009e+02,  7.35806152e+02,  7.30414368e+02,  7.22886169e+02,\n",
       "        7.16964600e+02,  7.10785522e+02,  7.01247437e+02,  6.97200928e+02,\n",
       "        6.92118286e+02,  6.86525269e+02,  6.80733704e+02,  6.77086182e+02,\n",
       "        6.73000366e+02,  6.65078369e+02,  6.61251343e+02,  6.57000000e+02,\n",
       "        6.50018494e+02,  6.46806335e+02,  6.42989563e+02,  6.38108276e+02,\n",
       "        6.33989258e+02,  6.29897339e+02,  6.24934570e+02,  6.19719604e+02,\n",
       "        6.16727234e+02,  6.14255249e+02,  6.10920288e+02,  6.07164612e+02,\n",
       "        6.02230408e+02,  5.99473022e+02,  5.95509766e+02,  5.93159058e+02,\n",
       "        5.91730469e+02,  5.89409790e+02,  5.86103027e+02,  5.84424744e+02,\n",
       "        5.82449585e+02,  5.79061890e+02,  5.77258911e+02,  5.75928711e+02,\n",
       "        5.74110535e+02,  5.72352661e+02,  5.69445984e+02,  5.68006287e+02,\n",
       "        5.64504639e+02,  5.63087158e+02,  5.61950867e+02,  5.59894531e+02,\n",
       "        5.58516968e+02,  5.57369263e+02,  5.54058228e+02,  5.52717407e+02,\n",
       "        5.51401917e+02,  5.50167480e+02,  5.49339844e+02,  5.48431152e+02,\n",
       "        5.47947144e+02,  5.47695801e+02,  5.47416687e+02,  5.46863342e+02,\n",
       "        5.45933411e+02,  5.45640137e+02,  5.45067749e+02,  5.44892944e+02,\n",
       "        5.44755798e+02,  5.44487488e+02,  5.44509583e+02,  5.44069153e+02,\n",
       "        5.44041504e+02,  5.43740723e+02,  5.43940857e+02,  5.43857056e+02,\n",
       "        5.43769775e+02,  5.43377808e+02,  5.43359985e+02,  5.43509460e+02,\n",
       "        5.43125916e+02,  5.43256042e+02,  5.43512939e+02,  5.43596680e+02,\n",
       "        5.43599731e+02,  5.43655273e+02,  5.43837769e+02,  5.43759094e+02,\n",
       "        5.43840088e+02,  5.43787109e+02,  5.43934509e+02,  5.44351196e+02,\n",
       "        5.44329590e+02,  5.44357178e+02,  5.43519836e+02,  5.42649658e+02,\n",
       "        5.42117737e+02,  5.42222290e+02,  5.41711060e+02,  5.41873535e+02,\n",
       "        5.41725464e+02,  5.42023682e+02,  5.41058777e+02,  5.40631287e+02,\n",
       "        5.40758789e+02,  5.40794983e+02,  5.40953613e+02,  5.41529419e+02,\n",
       "        5.41601990e+02,  5.42059998e+02,  5.42442749e+02,  5.42077820e+02,\n",
       "        5.42419189e+02,  5.41997009e+02,  5.41880493e+02,  5.41904480e+02,\n",
       "        5.42199707e+02,  5.42616943e+02,  5.43078796e+02,  5.43050598e+02,\n",
       "        5.43337830e+02,  5.43309326e+02,  5.42988220e+02,  5.43522034e+02,\n",
       "        5.43742249e+02,  5.43635010e+02,  5.44122803e+02,  5.44165527e+02,\n",
       "        5.44529053e+02,  5.44260620e+02,  5.44621033e+02,  5.44897766e+02,\n",
       "        5.45287109e+02,  5.45686462e+02,  5.46108459e+02,  5.46402222e+02,\n",
       "        5.46573120e+02,  5.46615112e+02,  5.46733704e+02,  5.47352661e+02,\n",
       "        5.47433105e+02,  5.47224121e+02,  5.47768005e+02,  5.47975647e+02,\n",
       "        5.48376038e+02,  5.48607422e+02,  5.48999756e+02,  5.49620850e+02,\n",
       "        5.49983459e+02,  5.50502563e+02,  5.50744751e+02,  5.51119446e+02,\n",
       "        5.51039368e+02,  5.50915894e+02,  5.51061890e+02,  5.51471558e+02,\n",
       "        5.51487671e+02,  5.51502686e+02,  5.51982300e+02,  5.52424377e+02,\n",
       "        5.52502930e+02,  5.52796265e+02,  5.52851318e+02,  5.53223572e+02,\n",
       "        5.53540588e+02,  5.53882690e+02,  5.54460327e+02,  5.54645264e+02,\n",
       "        5.54932739e+02,  5.55207642e+02,  5.55642456e+02,  5.55778076e+02,\n",
       "        5.55916260e+02,  5.56305542e+02,  5.56994751e+02,  5.57179443e+02,\n",
       "        5.57703125e+02,  5.57954834e+02,  5.58253723e+02,  5.58646729e+02,\n",
       "        5.59093933e+02,  5.59656433e+02,  5.59841919e+02,  5.60494080e+02,\n",
       "        5.60256897e+02,  5.60416687e+02,  5.60761353e+02,  5.61047607e+02,\n",
       "        5.61588623e+02,  5.62009155e+02,  5.62280090e+02,  5.62770630e+02,\n",
       "        5.63366089e+02,  5.63481628e+02,  5.64115234e+02,  5.64671021e+02,\n",
       "        5.65030518e+02,  5.64766663e+02,  5.64964539e+02,  5.66129272e+02,\n",
       "        5.66492554e+02,  5.66920349e+02,  5.66778442e+02,  5.67630554e+02,\n",
       "        5.67462036e+02,  5.67770386e+02,  5.68829224e+02,  5.68667786e+02,\n",
       "        5.69308838e+02,  5.69335876e+02,  5.70124268e+02,  5.70543457e+02,\n",
       "        5.70287354e+02,  5.71575989e+02,  5.71633057e+02,  5.73095703e+02,\n",
       "        5.72487549e+02,  5.72952820e+02,  5.73999268e+02,  5.74021179e+02,\n",
       "        5.75486877e+02,  5.76198669e+02,  5.75624878e+02,  5.76121948e+02,\n",
       "        5.75741577e+02,  5.76543213e+02,  5.77757263e+02,  5.78319763e+02,\n",
       "        5.79394348e+02,  5.78579651e+02,  5.78940735e+02,  5.79783142e+02,\n",
       "        5.79885803e+02,  5.80966797e+02,  5.81736694e+02,  5.82060242e+02,\n",
       "        5.83005005e+02,  5.83024597e+02,  5.83028320e+02,  5.83564697e+02,\n",
       "        5.84375427e+02,  5.84149231e+02,  5.85219727e+02,  5.86576477e+02,\n",
       "        5.85962769e+02,  5.85907349e+02,  5.85792542e+02,  5.86849731e+02,\n",
       "        5.87172607e+02,  5.87751892e+02,  5.88907959e+02,  5.88374817e+02,\n",
       "        5.90601440e+02,  5.89806763e+02,  5.91603333e+02,  5.91014404e+02,\n",
       "        5.91906372e+02,  5.91104309e+02,  5.90530762e+02,  5.89368286e+02,\n",
       "        5.88286743e+02,  5.87912476e+02,  5.87363525e+02,  5.86916199e+02,\n",
       "        5.86079041e+02,  5.84232483e+02,  5.83638428e+02,  5.82968567e+02,\n",
       "        5.82892517e+02,  5.82800293e+02,  5.82671875e+02,  5.82349304e+02,\n",
       "        5.82080444e+02,  5.81438843e+02,  5.81384216e+02,  5.81466370e+02,\n",
       "        5.81828857e+02,  5.80742188e+02,  5.80660889e+02,  5.80884705e+02,\n",
       "        5.80261963e+02,  5.80154907e+02,  5.79901001e+02,  5.79657837e+02,\n",
       "        5.79716003e+02,  5.79299561e+02,  5.79698486e+02,  5.79424377e+02,\n",
       "        5.79508606e+02,  5.78870300e+02,  5.79323975e+02,  5.79045898e+02,\n",
       "        5.79535706e+02,  5.79446960e+02,  5.79240967e+02,  5.79269531e+02,\n",
       "        5.79043335e+02,  5.79070862e+02,  5.79472046e+02,  5.79331848e+02,\n",
       "        5.79395142e+02,  5.79446777e+02,  5.79576904e+02,  5.79331421e+02,\n",
       "        5.79636292e+02,  5.79805420e+02,  5.79595947e+02,  5.79695374e+02,\n",
       "        5.79706482e+02,  5.79874878e+02,  5.80109131e+02,  5.80236938e+02,\n",
       "        5.80130920e+02,  5.79797607e+02,  5.79886597e+02,  5.80248352e+02,\n",
       "        5.80342468e+02,  5.80332520e+02,  5.80752747e+02,  5.80621399e+02,\n",
       "        5.80596008e+02,  5.80624817e+02,  5.80762085e+02,  5.81001709e+02,\n",
       "        5.81483276e+02,  5.81730713e+02,  5.82132812e+02,  5.82099365e+02,\n",
       "        5.81999756e+02,  5.81967285e+02,  5.82165161e+02,  5.82304443e+02,\n",
       "        5.81975098e+02,  5.82651245e+02,  5.82422058e+02,  5.82876831e+02,\n",
       "        5.83109497e+02,  5.83143738e+02,  5.83094666e+02,  5.83440308e+02,\n",
       "        5.82904785e+02,  5.83061340e+02,  5.82995361e+02,  5.83687683e+02,\n",
       "        5.83403503e+02,  5.83328247e+02,  5.84061279e+02,  5.84131104e+02,\n",
       "        5.84043457e+02,  5.84686157e+02,  5.84816467e+02,  5.84850708e+02,\n",
       "        5.84910156e+02,  5.84444946e+02,  5.84710144e+02,  5.85001099e+02,\n",
       "        5.84895020e+02,  5.85640625e+02,  5.85822083e+02,  5.85999695e+02,\n",
       "        5.86082458e+02,  5.86064209e+02,  5.87044556e+02,  5.86815063e+02,\n",
       "        5.87196228e+02,  5.87383179e+02,  5.87638916e+02,  5.87522766e+02,\n",
       "        5.88104248e+02,  5.87933533e+02,  5.87738892e+02,  5.87927734e+02,\n",
       "        5.88355591e+02,  5.88893372e+02,  5.89054443e+02,  5.89036499e+02,\n",
       "        5.89191895e+02,  5.89920166e+02,  5.90032898e+02,  5.90211060e+02,\n",
       "        5.90625549e+02,  5.90507874e+02,  5.91216553e+02,  5.91392944e+02,\n",
       "        5.91375549e+02,  5.91975647e+02,  5.92349670e+02,  5.92510742e+02,\n",
       "        5.92773926e+02,  5.93152222e+02,  5.94181641e+02,  5.94152588e+02,\n",
       "        5.93971313e+02,  5.94270630e+02,  5.94676697e+02,  5.94798706e+02,\n",
       "        5.95181702e+02,  5.95379883e+02,  5.95618347e+02,  5.96195923e+02,\n",
       "        5.96961365e+02,  5.97032227e+02,  5.97343872e+02,  5.97706604e+02,\n",
       "        5.97510742e+02,  5.97709778e+02,  5.95563477e+02,  5.98218445e+02,\n",
       "        5.98340576e+02,  5.98910828e+02,  5.98960571e+02,  5.99114929e+02,\n",
       "        5.99693909e+02,  6.00361511e+02,  6.00655945e+02,  6.01054565e+02,\n",
       "        6.01111206e+02,  6.01558716e+02,  6.01800720e+02,  6.02648315e+02,\n",
       "        6.02442322e+02,  6.02915161e+02,  6.03008423e+02,  6.03389099e+02,\n",
       "        6.03881897e+02,  6.04059082e+02,  6.04375366e+02,  6.04343262e+02,\n",
       "        6.05521118e+02,  6.05032837e+02,  6.05174622e+02,  6.05892456e+02,\n",
       "        6.05694336e+02,  6.06363281e+02,  6.06138672e+02,  6.06468201e+02,\n",
       "        6.07280518e+02,  6.06521973e+02,  6.07568787e+02,  6.08068115e+02,\n",
       "        6.08063110e+02,  6.08150574e+02,  6.08790283e+02,  6.08950317e+02,\n",
       "        6.09213928e+02,  6.09936096e+02,  6.10516479e+02,  6.10900330e+02,\n",
       "        6.10917786e+02,  6.11089722e+02,  6.11753784e+02,  6.11984863e+02,\n",
       "        6.13225830e+02,  6.13262695e+02,  6.13715149e+02,  6.13572998e+02])"
      ]
     },
     "execution_count": 28,
     "metadata": {},
     "output_type": "execute_result"
    }
   ],
   "source": [
    "final[0]"
   ]
  },
  {
   "cell_type": "code",
   "execution_count": 45,
   "metadata": {},
   "outputs": [],
   "source": [
    "distances2 = np.array([-i if i < 0 else i for i in final[0]])\n",
    "distances2 = 1/distances2"
   ]
  },
  {
   "cell_type": "code",
   "execution_count": 46,
   "metadata": {},
   "outputs": [
    {
     "data": {
      "text/plain": [
       "<Axes: >"
      ]
     },
     "execution_count": 46,
     "metadata": {},
     "output_type": "execute_result"
    },
    {
     "data": {
      "image/png": "[encoded data removed]",
      "text/plain": [
       "<Figure size 640x480 with 1 Axes>"
      ]
     },
     "metadata": {},
     "output_type": "display_data"
    }
   ],
   "source": [
    "import seaborn as sns\n",
    "sns.lineplot(distances2)"
   ]
  },
  {
   "cell_type": "code",
   "execution_count": 49,
   "metadata": {},
   "outputs": [
    {
     "data": {
      "text/plain": [
       "array([2.02211251e+09, 4.02159104e+08, 4.16596992e+08, 3.71189688e+04,\n",
       "       1.41109883e+04, 9.24767188e+03, 7.66356689e+03, 6.95336621e+03,\n",
       "       6.17617969e+03, 5.87916211e+03, 5.64190332e+03, 5.47896875e+03,\n",
       "       5.32320068e+03, 5.20781055e+03, 5.17760791e+03, 5.14581348e+03,\n",
       "       5.04331445e+03, 4.94869238e+03, 4.92986133e+03, 4.85884473e+03,\n",
       "       4.78771777e+03, 4.78953320e+03, 4.71269141e+03, 4.67547119e+03,\n",
       "       4.63489111e+03, 4.63830566e+03, 4.63754785e+03, 4.60247900e+03,\n",
       "       4.60831543e+03, 4.56581543e+03, 4.53885596e+03, 4.56260449e+03,\n",
       "       4.55631885e+03, 4.54203223e+03, 4.53635547e+03, 4.50862500e+03,\n",
       "       4.53604785e+03, 4.56548730e+03, 4.56815430e+03, 4.56370703e+03,\n",
       "       4.57750879e+03, 4.54686328e+03, 4.55589258e+03, 4.54581934e+03,\n",
       "       4.53741113e+03, 4.51271045e+03, 4.50130664e+03, 4.48954102e+03,\n",
       "       4.48584863e+03, 4.50234082e+03, 4.42220166e+03, 4.36158301e+03,\n",
       "       4.24481348e+03, 4.14863721e+03, 4.11144287e+03, 4.07999854e+03,\n",
       "       4.01113647e+03, 3.97926733e+03, 3.93119092e+03, 3.92409619e+03,\n",
       "       3.91191284e+03, 3.90791870e+03, 3.91518506e+03, 3.91742041e+03,\n",
       "       3.90972217e+03, 3.90545923e+03, 3.89488940e+03, 3.90651660e+03,\n",
       "       3.89691406e+03, 3.91061597e+03, 3.90988403e+03, 3.91669409e+03,\n",
       "       3.93081982e+03, 3.92760889e+03, 3.89030420e+03, 3.88919995e+03,\n",
       "       3.90660791e+03, 3.91988306e+03, 3.92280811e+03, 3.91022070e+03,\n",
       "       3.91739307e+03, 3.91425049e+03, 3.92069092e+03, 3.92928638e+03,\n",
       "       3.93483398e+03, 3.93273950e+03, 3.92514795e+03, 3.92964233e+03,\n",
       "       3.93975781e+03, 3.94345117e+03, 3.94712183e+03, 3.94770630e+03,\n",
       "       3.96189551e+03, 3.97031177e+03, 3.98103418e+03, 3.98522876e+03,\n",
       "       3.99598657e+03, 4.00857080e+03, 4.01797852e+03, 4.02313916e+03,\n",
       "       2.61832520e+03, 2.15281958e+03, 1.91147400e+03, 1.69639917e+03,\n",
       "       1.55913782e+03, 1.43570166e+03, 1.35199609e+03, 1.25187769e+03,\n",
       "       1.18700537e+03, 1.13731714e+03, 1.09454565e+03, 1.05373120e+03,\n",
       "       1.02263428e+03, 9.95221802e+02, 9.66278870e+02, 9.45962280e+02,\n",
       "       9.10849976e+02, 8.82616699e+02, 8.67823669e+02, 8.42654175e+02,\n",
       "       8.24584412e+02, 8.01696289e+02, 7.88800781e+02, 7.76726013e+02,\n",
       "       7.66755737e+02, 7.51654724e+02, 7.41746338e+02, 7.32105164e+02,\n",
       "       7.16446533e+02, 7.04079346e+02, 6.96307434e+02, 6.85839111e+02,\n",
       "       6.79346313e+02, 6.72099976e+02, 6.63070496e+02, 6.56537659e+02,\n",
       "       6.46758545e+02, 6.41940063e+02, 6.34430969e+02, 6.23319214e+02,\n",
       "       6.15603943e+02, 6.12133301e+02, 6.07110352e+02, 6.00963257e+02,\n",
       "       5.96550415e+02, 5.89635132e+02, 5.86299316e+02, 5.82008301e+02,\n",
       "       5.77804871e+02, 5.74806702e+02, 5.71282410e+02, 5.69865662e+02,\n",
       "       5.68114258e+02, 5.67111694e+02, 5.66426392e+02, 5.66086792e+02,\n",
       "       5.64923157e+02, 5.64358398e+02, 5.62948303e+02, 5.62759338e+02,\n",
       "       5.62811768e+02, 5.61744568e+02, 5.61999634e+02, 5.62262878e+02,\n",
       "       5.62242310e+02, 5.62661865e+02, 5.62582703e+02, 5.62530884e+02,\n",
       "       5.60609924e+02, 5.58707031e+02, 5.57653320e+02, 5.57878418e+02,\n",
       "       5.58123474e+02, 5.58355530e+02, 5.58298706e+02, 5.58459656e+02,\n",
       "       5.59247864e+02, 5.58302368e+02, 5.57791565e+02, 5.58564331e+02,\n",
       "       5.58359070e+02, 5.59025024e+02, 5.59013916e+02, 5.59182312e+02,\n",
       "       5.59155884e+02, 5.59660583e+02, 5.60455078e+02, 5.61246277e+02,\n",
       "       5.61587524e+02, 5.62822876e+02, 5.61814697e+02, 5.62658081e+02,\n",
       "       5.63800598e+02, 5.64725708e+02, 5.64370728e+02, 5.64518921e+02,\n",
       "       5.64385315e+02, 5.64709534e+02, 5.64855957e+02, 5.64945435e+02,\n",
       "       5.65807922e+02, 5.66480225e+02, 5.67372559e+02, 5.68244446e+02,\n",
       "       5.68750244e+02, 5.68758301e+02, 5.69278564e+02, 5.69993164e+02,\n",
       "       5.70731140e+02, 5.71572510e+02, 5.71999023e+02, 5.72471313e+02,\n",
       "       5.72739380e+02, 5.72975098e+02, 5.73722595e+02, 5.74559204e+02,\n",
       "       5.75142578e+02, 5.75700195e+02, 5.76633850e+02, 5.77069275e+02,\n",
       "       5.77723083e+02, 5.78594849e+02, 5.79318359e+02, 5.80257629e+02,\n",
       "       5.80452698e+02, 5.81403809e+02, 5.82077148e+02, 5.83416870e+02,\n",
       "       5.83575562e+02, 5.84551514e+02, 5.85218201e+02, 5.85585815e+02,\n",
       "       5.86815552e+02, 5.87855347e+02, 5.88686646e+02, 5.89662720e+02,\n",
       "       5.90887146e+02, 5.92482117e+02, 5.92664673e+02, 5.93728455e+02,\n",
       "       5.94305908e+02, 5.94737427e+02, 5.95771057e+02, 5.96658447e+02,\n",
       "       5.97447205e+02, 5.97912415e+02, 5.99258972e+02, 6.00338745e+02,\n",
       "       6.01382324e+02, 6.02769287e+02, 6.03147339e+02, 6.01147827e+02,\n",
       "       6.00453186e+02, 5.97948242e+02, 5.95854858e+02, 5.94725586e+02,\n",
       "       5.94523926e+02, 5.93891052e+02, 5.93197998e+02, 5.92525818e+02,\n",
       "       5.91610657e+02, 5.91456543e+02, 5.91307007e+02, 5.90348572e+02,\n",
       "       5.90133240e+02, 5.89987976e+02, 5.89229370e+02, 5.89758728e+02,\n",
       "       5.89656860e+02, 5.89248840e+02, 5.89212524e+02, 5.89669067e+02,\n",
       "       5.89653320e+02, 5.90058777e+02, 5.89824890e+02, 5.90026733e+02,\n",
       "       5.89734741e+02, 5.90125427e+02, 5.90438110e+02, 5.90653870e+02,\n",
       "       5.91176514e+02, 5.90808411e+02, 5.91359863e+02, 5.91458801e+02,\n",
       "       5.91715698e+02, 5.92268677e+02, 5.92908264e+02, 5.93476990e+02,\n",
       "       5.93540649e+02, 5.93627075e+02, 5.93996155e+02, 5.94678894e+02,\n",
       "       5.94691650e+02, 5.94947266e+02, 5.95532837e+02, 5.95246277e+02,\n",
       "       5.95113892e+02, 5.95529968e+02, 5.95638733e+02, 5.95295410e+02,\n",
       "       5.95205505e+02, 5.95573120e+02, 5.96000916e+02, 5.96689209e+02,\n",
       "       5.96676758e+02, 5.97970703e+02, 5.98311951e+02, 5.98602966e+02,\n",
       "       5.99068176e+02, 5.99756348e+02, 6.00203003e+02, 6.00764771e+02,\n",
       "       6.01343384e+02, 6.01945068e+02, 6.02549316e+02, 6.03130615e+02,\n",
       "       6.03398499e+02, 6.04140076e+02, 6.04899292e+02, 6.05769592e+02,\n",
       "       6.06490479e+02, 6.06029663e+02, 6.07457336e+02, 6.07655762e+02,\n",
       "       6.07935120e+02, 6.08889893e+02, 6.09680054e+02, 6.10429810e+02,\n",
       "       6.11124451e+02, 6.11261353e+02, 6.11553040e+02, 6.12283752e+02,\n",
       "       6.13348633e+02, 6.14412720e+02, 6.13917236e+02, 6.14712524e+02,\n",
       "       6.15327637e+02, 6.16242126e+02, 6.16316406e+02, 6.17482727e+02,\n",
       "       6.18151306e+02, 6.18746216e+02, 6.19153687e+02, 6.20031128e+02,\n",
       "       6.21236572e+02, 6.21686829e+02, 6.22288452e+02, 6.23160095e+02,\n",
       "       6.23908936e+02, 6.24637634e+02])"
      ]
     },
     "execution_count": 49,
     "metadata": {},
     "output_type": "execute_result"
    }
   ],
   "source": [
    "1/distances"
   ]
  },
  {
   "cell_type": "code",
   "execution_count": 50,
   "metadata": {},
   "outputs": [
    {
     "data": {
      "text/plain": [
       "array([1.10152131e+10, 5.22546784e+08, 9.69288576e+08, 4.02193984e+04,\n",
       "       1.48599541e+04, 1.00892715e+04, 8.00936523e+03, 6.66403711e+03,\n",
       "       6.53031543e+03, 6.19112695e+03, 5.72926855e+03, 5.61245557e+03,\n",
       "       5.37272363e+03, 5.20125195e+03, 4.93235889e+03, 4.86339551e+03,\n",
       "       4.76691309e+03, 4.73222119e+03, 4.53279688e+03, 4.45627637e+03,\n",
       "       4.39868555e+03, 4.37764941e+03, 4.38899561e+03, 4.39787939e+03,\n",
       "       4.34915430e+03, 4.35012402e+03, 4.31670508e+03, 4.32189746e+03,\n",
       "       4.31638184e+03, 4.29622656e+03, 4.27290332e+03, 4.27610059e+03,\n",
       "       4.24800537e+03, 4.26652148e+03, 4.23552051e+03, 4.24709180e+03,\n",
       "       4.23252295e+03, 4.23274268e+03, 4.21201758e+03, 4.18951709e+03,\n",
       "       4.17857422e+03, 4.19759766e+03, 4.20384473e+03, 4.20547070e+03,\n",
       "       4.20363184e+03, 4.18848682e+03, 4.18085449e+03, 4.18327832e+03,\n",
       "       4.17796729e+03, 4.16481152e+03, 4.15872314e+03, 4.17005176e+03,\n",
       "       4.16199121e+03, 4.15647852e+03, 4.13838574e+03, 4.14421924e+03,\n",
       "       4.15426807e+03, 4.14472754e+03, 4.15590625e+03, 4.16109570e+03,\n",
       "       4.17728418e+03, 4.17072461e+03, 4.17153711e+03, 4.16410352e+03,\n",
       "       4.14475391e+03, 4.14134033e+03, 4.13865088e+03, 4.14584082e+03,\n",
       "       4.14691602e+03, 4.14170557e+03, 4.15476562e+03, 4.15377344e+03,\n",
       "       4.16837305e+03, 4.17095605e+03, 4.17624951e+03, 4.16808203e+03,\n",
       "       4.16578418e+03, 4.17191895e+03, 4.17040723e+03, 4.17114453e+03,\n",
       "       4.18353320e+03, 4.19774121e+03, 4.19189941e+03, 4.18690234e+03,\n",
       "       4.19342773e+03, 4.19703174e+03, 4.20494824e+03, 4.19335156e+03,\n",
       "       4.19711816e+03, 4.19997949e+03, 4.19604199e+03, 4.18908252e+03,\n",
       "       4.18794141e+03, 4.18627783e+03, 4.18825635e+03, 4.18370215e+03,\n",
       "       4.18389160e+03, 4.18345996e+03, 4.18486182e+03, 4.19492188e+03,\n",
       "       4.11664111e+03, 4.09075024e+03, 4.06466309e+03, 4.03777197e+03,\n",
       "       4.01415918e+03, 3.94802441e+03, 3.91278809e+03, 3.87639844e+03,\n",
       "       3.86410767e+03, 3.84797290e+03, 3.81535107e+03, 3.79922119e+03,\n",
       "       3.78730444e+03, 3.75110889e+03, 3.73908838e+03, 3.72706567e+03,\n",
       "       3.70715552e+03, 3.69387354e+03, 3.69689844e+03, 3.69445142e+03,\n",
       "       3.69056885e+03, 3.68530713e+03, 3.68241846e+03, 3.67914062e+03,\n",
       "       3.67356812e+03, 3.67562817e+03, 3.67837109e+03, 3.67845996e+03,\n",
       "       3.67417676e+03, 3.67413037e+03, 3.67343604e+03, 3.67156348e+03,\n",
       "       3.67427856e+03, 3.67399707e+03, 3.66925000e+03, 3.67605127e+03,\n",
       "       3.66935718e+03, 3.66891504e+03, 3.67736011e+03, 3.68231860e+03,\n",
       "       3.68311084e+03, 3.68298438e+03, 3.68348438e+03, 3.68567358e+03,\n",
       "       3.68848096e+03, 3.69547998e+03, 3.69490234e+03, 3.69514844e+03,\n",
       "       3.69337500e+03, 3.67935303e+03, 3.68010718e+03, 3.68171484e+03,\n",
       "       3.68494287e+03, 3.68800488e+03, 3.68916943e+03, 3.69659473e+03,\n",
       "       3.69636475e+03, 3.70361670e+03, 3.70554565e+03, 3.70945312e+03,\n",
       "       3.70731494e+03, 3.71263623e+03, 3.71321338e+03, 3.70764355e+03,\n",
       "       3.71212500e+03, 3.71794263e+03, 3.72142505e+03, 3.72119775e+03,\n",
       "       3.71779272e+03, 3.72334033e+03, 3.72518701e+03, 3.72902441e+03,\n",
       "       3.73485693e+03, 3.73939624e+03, 3.74074463e+03, 3.74540234e+03,\n",
       "       3.74694116e+03, 3.75452222e+03, 3.75648413e+03, 3.75806445e+03,\n",
       "       3.76534595e+03, 3.76566357e+03, 3.76853955e+03, 3.77448096e+03,\n",
       "       3.78176514e+03, 3.78495215e+03, 3.79066675e+03, 3.79506274e+03,\n",
       "       3.80087183e+03, 3.80477759e+03, 3.80727100e+03, 3.80908521e+03,\n",
       "       3.81619263e+03, 3.82268750e+03, 3.82946680e+03, 3.83334692e+03,\n",
       "       3.83952295e+03, 3.84265698e+03, 3.84486426e+03, 3.84383716e+03,\n",
       "       2.69268335e+03, 2.33507031e+03, 2.13878467e+03, 1.98241138e+03,\n",
       "       1.85580444e+03, 1.73528882e+03, 1.64413196e+03, 1.56142456e+03,\n",
       "       1.49871936e+03, 1.44927356e+03, 1.40623389e+03, 1.34211072e+03,\n",
       "       1.29921753e+03, 1.26308154e+03, 1.22504175e+03, 1.19187964e+03,\n",
       "       1.16982568e+03, 1.14749963e+03, 1.12615308e+03, 1.10950781e+03,\n",
       "       1.08017725e+03, 1.05637109e+03, 1.03593701e+03, 1.01692181e+03,\n",
       "       9.98835022e+02, 9.80696411e+02, 9.67796509e+02, 9.48521545e+02,\n",
       "       9.29408813e+02, 9.12389343e+02, 9.06454468e+02, 8.97430298e+02,\n",
       "       8.82358887e+02, 8.70841248e+02, 8.61369141e+02, 8.51033569e+02,\n",
       "       8.40509644e+02, 8.31167236e+02, 8.20794189e+02, 8.07803162e+02,\n",
       "       8.01391846e+02, 7.87775696e+02, 7.80900146e+02, 7.71657227e+02,\n",
       "       7.65371216e+02, 7.59364258e+02, 7.52453369e+02, 7.46494812e+02,\n",
       "       7.41372009e+02, 7.35806152e+02, 7.30414368e+02, 7.22886169e+02,\n",
       "       7.16964600e+02, 7.10785522e+02, 7.01247437e+02, 6.97200928e+02,\n",
       "       6.92118286e+02, 6.86525269e+02, 6.80733704e+02, 6.77086182e+02,\n",
       "       6.73000366e+02, 6.65078369e+02, 6.61251343e+02, 6.57000000e+02,\n",
       "       6.50018494e+02, 6.46806335e+02, 6.42989563e+02, 6.38108276e+02,\n",
       "       6.33989258e+02, 6.29897339e+02, 6.24934570e+02, 6.19719604e+02,\n",
       "       6.16727234e+02, 6.14255249e+02, 6.10920288e+02, 6.07164612e+02,\n",
       "       6.02230408e+02, 5.99473022e+02, 5.95509766e+02, 5.93159058e+02,\n",
       "       5.91730469e+02, 5.89409790e+02, 5.86103027e+02, 5.84424744e+02,\n",
       "       5.82449585e+02, 5.79061890e+02, 5.77258911e+02, 5.75928711e+02,\n",
       "       5.74110535e+02, 5.72352661e+02, 5.69445984e+02, 5.68006287e+02,\n",
       "       5.64504639e+02, 5.63087158e+02, 5.61950867e+02, 5.59894531e+02,\n",
       "       5.58516968e+02, 5.57369263e+02, 5.54058228e+02, 5.52717407e+02,\n",
       "       5.51401917e+02, 5.50167480e+02, 5.49339844e+02, 5.48431152e+02,\n",
       "       5.47947144e+02, 5.47695801e+02, 5.47416687e+02, 5.46863342e+02,\n",
       "       5.45933411e+02, 5.45640137e+02, 5.45067749e+02, 5.44892944e+02,\n",
       "       5.44755798e+02, 5.44487488e+02, 5.44509583e+02, 5.44069153e+02,\n",
       "       5.44041504e+02, 5.43740723e+02, 5.43940857e+02, 5.43857056e+02,\n",
       "       5.43769775e+02, 5.43377808e+02, 5.43359985e+02, 5.43509460e+02,\n",
       "       5.43125916e+02, 5.43256042e+02, 5.43512939e+02, 5.43596680e+02,\n",
       "       5.43599731e+02, 5.43655273e+02, 5.43837769e+02, 5.43759094e+02,\n",
       "       5.43840088e+02, 5.43787109e+02, 5.43934509e+02, 5.44351196e+02,\n",
       "       5.44329590e+02, 5.44357178e+02, 5.43519836e+02, 5.42649658e+02,\n",
       "       5.42117737e+02, 5.42222290e+02, 5.41711060e+02, 5.41873535e+02,\n",
       "       5.41725464e+02, 5.42023682e+02, 5.41058777e+02, 5.40631287e+02,\n",
       "       5.40758789e+02, 5.40794983e+02, 5.40953613e+02, 5.41529419e+02,\n",
       "       5.41601990e+02, 5.42059998e+02, 5.42442749e+02, 5.42077820e+02,\n",
       "       5.42419189e+02, 5.41997009e+02, 5.41880493e+02, 5.41904480e+02,\n",
       "       5.42199707e+02, 5.42616943e+02, 5.43078796e+02, 5.43050598e+02,\n",
       "       5.43337830e+02, 5.43309326e+02, 5.42988220e+02, 5.43522034e+02,\n",
       "       5.43742249e+02, 5.43635010e+02, 5.44122803e+02, 5.44165527e+02,\n",
       "       5.44529053e+02, 5.44260620e+02, 5.44621033e+02, 5.44897766e+02,\n",
       "       5.45287109e+02, 5.45686462e+02, 5.46108459e+02, 5.46402222e+02,\n",
       "       5.46573120e+02, 5.46615112e+02, 5.46733704e+02, 5.47352661e+02,\n",
       "       5.47433105e+02, 5.47224121e+02, 5.47768005e+02, 5.47975647e+02,\n",
       "       5.48376038e+02, 5.48607422e+02, 5.48999756e+02, 5.49620850e+02,\n",
       "       5.49983459e+02, 5.50502563e+02, 5.50744751e+02, 5.51119446e+02,\n",
       "       5.51039368e+02, 5.50915894e+02, 5.51061890e+02, 5.51471558e+02,\n",
       "       5.51487671e+02, 5.51502686e+02, 5.51982300e+02, 5.52424377e+02,\n",
       "       5.52502930e+02, 5.52796265e+02, 5.52851318e+02, 5.53223572e+02,\n",
       "       5.53540588e+02, 5.53882690e+02, 5.54460327e+02, 5.54645264e+02,\n",
       "       5.54932739e+02, 5.55207642e+02, 5.55642456e+02, 5.55778076e+02,\n",
       "       5.55916260e+02, 5.56305542e+02, 5.56994751e+02, 5.57179443e+02,\n",
       "       5.57703125e+02, 5.57954834e+02, 5.58253723e+02, 5.58646729e+02,\n",
       "       5.59093933e+02, 5.59656433e+02, 5.59841919e+02, 5.60494080e+02,\n",
       "       5.60256897e+02, 5.60416687e+02, 5.60761353e+02, 5.61047607e+02,\n",
       "       5.61588623e+02, 5.62009155e+02, 5.62280090e+02, 5.62770630e+02,\n",
       "       5.63366089e+02, 5.63481628e+02, 5.64115234e+02, 5.64671021e+02,\n",
       "       5.65030518e+02, 5.64766663e+02, 5.64964539e+02, 5.66129272e+02,\n",
       "       5.66492554e+02, 5.66920349e+02, 5.66778442e+02, 5.67630554e+02,\n",
       "       5.67462036e+02, 5.67770386e+02, 5.68829224e+02, 5.68667786e+02,\n",
       "       5.69308838e+02, 5.69335876e+02, 5.70124268e+02, 5.70543457e+02,\n",
       "       5.70287354e+02, 5.71575989e+02, 5.71633057e+02, 5.73095703e+02,\n",
       "       5.72487549e+02, 5.72952820e+02, 5.73999268e+02, 5.74021179e+02,\n",
       "       5.75486877e+02, 5.76198669e+02, 5.75624878e+02, 5.76121948e+02,\n",
       "       5.75741577e+02, 5.76543213e+02, 5.77757263e+02, 5.78319763e+02,\n",
       "       5.79394348e+02, 5.78579651e+02, 5.78940735e+02, 5.79783142e+02,\n",
       "       5.79885803e+02, 5.80966797e+02, 5.81736694e+02, 5.82060242e+02,\n",
       "       5.83005005e+02, 5.83024597e+02, 5.83028320e+02, 5.83564697e+02,\n",
       "       5.84375427e+02, 5.84149231e+02, 5.85219727e+02, 5.86576477e+02,\n",
       "       5.85962769e+02, 5.85907349e+02, 5.85792542e+02, 5.86849731e+02,\n",
       "       5.87172607e+02, 5.87751892e+02, 5.88907959e+02, 5.88374817e+02,\n",
       "       5.90601440e+02, 5.89806763e+02, 5.91603333e+02, 5.91014404e+02,\n",
       "       5.91906372e+02, 5.91104309e+02, 5.90530762e+02, 5.89368286e+02,\n",
       "       5.88286743e+02, 5.87912476e+02, 5.87363525e+02, 5.86916199e+02,\n",
       "       5.86079041e+02, 5.84232483e+02, 5.83638428e+02, 5.82968567e+02,\n",
       "       5.82892517e+02, 5.82800293e+02, 5.82671875e+02, 5.82349304e+02,\n",
       "       5.82080444e+02, 5.81438843e+02, 5.81384216e+02, 5.81466370e+02,\n",
       "       5.81828857e+02, 5.80742188e+02, 5.80660889e+02, 5.80884705e+02,\n",
       "       5.80261963e+02, 5.80154907e+02, 5.79901001e+02, 5.79657837e+02,\n",
       "       5.79716003e+02, 5.79299561e+02, 5.79698486e+02, 5.79424377e+02,\n",
       "       5.79508606e+02, 5.78870300e+02, 5.79323975e+02, 5.79045898e+02,\n",
       "       5.79535706e+02, 5.79446960e+02, 5.79240967e+02, 5.79269531e+02,\n",
       "       5.79043335e+02, 5.79070862e+02, 5.79472046e+02, 5.79331848e+02,\n",
       "       5.79395142e+02, 5.79446777e+02, 5.79576904e+02, 5.79331421e+02,\n",
       "       5.79636292e+02, 5.79805420e+02, 5.79595947e+02, 5.79695374e+02,\n",
       "       5.79706482e+02, 5.79874878e+02, 5.80109131e+02, 5.80236938e+02,\n",
       "       5.80130920e+02, 5.79797607e+02, 5.79886597e+02, 5.80248352e+02,\n",
       "       5.80342468e+02, 5.80332520e+02, 5.80752747e+02, 5.80621399e+02,\n",
       "       5.80596008e+02, 5.80624817e+02, 5.80762085e+02, 5.81001709e+02,\n",
       "       5.81483276e+02, 5.81730713e+02, 5.82132812e+02, 5.82099365e+02,\n",
       "       5.81999756e+02, 5.81967285e+02, 5.82165161e+02, 5.82304443e+02,\n",
       "       5.81975098e+02, 5.82651245e+02, 5.82422058e+02, 5.82876831e+02,\n",
       "       5.83109497e+02, 5.83143738e+02, 5.83094666e+02, 5.83440308e+02,\n",
       "       5.82904785e+02, 5.83061340e+02, 5.82995361e+02, 5.83687683e+02,\n",
       "       5.83403503e+02, 5.83328247e+02, 5.84061279e+02, 5.84131104e+02,\n",
       "       5.84043457e+02, 5.84686157e+02, 5.84816467e+02, 5.84850708e+02,\n",
       "       5.84910156e+02, 5.84444946e+02, 5.84710144e+02, 5.85001099e+02,\n",
       "       5.84895020e+02, 5.85640625e+02, 5.85822083e+02, 5.85999695e+02,\n",
       "       5.86082458e+02, 5.86064209e+02, 5.87044556e+02, 5.86815063e+02,\n",
       "       5.87196228e+02, 5.87383179e+02, 5.87638916e+02, 5.87522766e+02,\n",
       "       5.88104248e+02, 5.87933533e+02, 5.87738892e+02, 5.87927734e+02,\n",
       "       5.88355591e+02, 5.88893372e+02, 5.89054443e+02, 5.89036499e+02,\n",
       "       5.89191895e+02, 5.89920166e+02, 5.90032898e+02, 5.90211060e+02,\n",
       "       5.90625549e+02, 5.90507874e+02, 5.91216553e+02, 5.91392944e+02,\n",
       "       5.91375549e+02, 5.91975647e+02, 5.92349670e+02, 5.92510742e+02,\n",
       "       5.92773926e+02, 5.93152222e+02, 5.94181641e+02, 5.94152588e+02,\n",
       "       5.93971313e+02, 5.94270630e+02, 5.94676697e+02, 5.94798706e+02,\n",
       "       5.95181702e+02, 5.95379883e+02, 5.95618347e+02, 5.96195923e+02,\n",
       "       5.96961365e+02, 5.97032227e+02, 5.97343872e+02, 5.97706604e+02,\n",
       "       5.97510742e+02, 5.97709778e+02, 5.95563477e+02, 5.98218445e+02,\n",
       "       5.98340576e+02, 5.98910828e+02, 5.98960571e+02, 5.99114929e+02,\n",
       "       5.99693909e+02, 6.00361511e+02, 6.00655945e+02, 6.01054565e+02,\n",
       "       6.01111206e+02, 6.01558716e+02, 6.01800720e+02, 6.02648315e+02,\n",
       "       6.02442322e+02, 6.02915161e+02, 6.03008423e+02, 6.03389099e+02,\n",
       "       6.03881897e+02, 6.04059082e+02, 6.04375366e+02, 6.04343262e+02,\n",
       "       6.05521118e+02, 6.05032837e+02, 6.05174622e+02, 6.05892456e+02,\n",
       "       6.05694336e+02, 6.06363281e+02, 6.06138672e+02, 6.06468201e+02,\n",
       "       6.07280518e+02, 6.06521973e+02, 6.07568787e+02, 6.08068115e+02,\n",
       "       6.08063110e+02, 6.08150574e+02, 6.08790283e+02, 6.08950317e+02,\n",
       "       6.09213928e+02, 6.09936096e+02, 6.10516479e+02, 6.10900330e+02,\n",
       "       6.10917786e+02, 6.11089722e+02, 6.11753784e+02, 6.11984863e+02,\n",
       "       6.13225830e+02, 6.13262695e+02, 6.13715149e+02, 6.13572998e+02])"
      ]
     },
     "execution_count": 50,
     "metadata": {},
     "output_type": "execute_result"
    }
   ],
   "source": [
    "1/distances2"
   ]
  },
  {
   "cell_type": "code",
   "execution_count": null,
   "metadata": {},
   "outputs": [],
   "source": []
  }
 ],
 "metadata": {
  "kernelspec": {
   "display_name": "fewshot",
   "language": "python",
   "name": "python3"
  },
  "language_info": {
   "codemirror_mode": {
    "name": "ipython",
    "version": 3
   },
   "file_extension": ".py",
   "mimetype": "text/x-python",
   "name": "python",
   "nbconvert_exporter": "python",
   "pygments_lexer": "ipython3",
   "version": "3.9.17"
  },
  "orig_nbformat": 4
 },
 "nbformat": 4,
 "nbformat_minor": 2
}
